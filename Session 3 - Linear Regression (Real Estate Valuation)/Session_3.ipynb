{
  "nbformat": 4,
  "nbformat_minor": 0,
  "metadata": {
    "colab": {
      "name": "ML2_LinearRegression.ipynb",
      "provenance": [],
      "collapsed_sections": [
        "84e6IAJ03Ij2",
        "Gpj3w_mA7T8U",
        "PR_X8oLh7T8W",
        "IF4d75U_O_8Q",
        "BzgV9AAY3Ij7",
        "L8GhULhOJ-mX",
        "dF4krOpjeFh9",
        "k457N4AmjWBM",
        "TIxJ0TXcncWD",
        "rHp8eZ27-ZNS",
        "YlfMTWwJ_iaO",
        "r7nlun1LBpTp",
        "HEhEyt2eFT5N",
        "2TvdBVB2HHzw",
        "CJzhuyFGpJXv",
        "RxN3zmy8FrNM",
        "O63eGyMQMXPB",
        "RbCnldmFMKau",
        "hSaL5D0XIH0x",
        "mVXh8xAoUaSt",
        "8_9Zfnc0VFuA",
        "dJQoCcaCevOx",
        "DwB6NZ6Tbh_E",
        "qHqJA9HBdxGk",
        "IOXlU4wsjmsz",
        "ZJ34LK4bxAwG"
      ]
    },
    "kernelspec": {
      "display_name": "Python 3",
      "language": "python",
      "name": "python3"
    },
    "accelerator": "GPU"
  },
  "cells": [
    {
      "cell_type": "markdown",
      "metadata": {
        "id": "eOAD1UiS0-Hp"
      },
      "source": [
        "<h1><center>Machine Learning, Lecture 2 <br><font color='blue'>  Regression </font><br><font color='green'>How Do Machine Learning Models <u>*Learn* </u>Training Data?</font><br><font color='gold'>Ames, Iowa House Price Prediction</font><center></h1>\n",
        "  <h3><center>WHS Big Data Club</font><center></h3>\n",
        "      <h4><center><i>Larry Huang, Jeffrey Huang</i></center></h4>"
      ]
    },
    {
      "cell_type": "markdown",
      "metadata": {
        "id": "K7SrixoDi9JO"
      },
      "source": [
        "\n",
        "\n",
        "<h1><center><font color='red'>  ***PLEASE MAKE A COPY OF THIS DOCUMENT SO YOU CAN EDIT IT!*** <center></h1>\n",
        "\n",
        "---\n",
        "\n"
      ]
    },
    {
      "cell_type": "markdown",
      "metadata": {
        "id": "84e6IAJ03Ij2"
      },
      "source": [
        "# <font color='blue'>Regression</font>\n",
        "\n"
      ]
    },
    {
      "cell_type": "markdown",
      "metadata": {
        "id": "Gpj3w_mA7T8U"
      },
      "source": [
        "## <font color='green'>Classification Vs. Regression</font>"
      ]
    },
    {
      "cell_type": "markdown",
      "metadata": {
        "id": "ud4feKn-Dwuw"
      },
      "source": [
        "Classification Models are used to predict a type.  For example, KNN Model.\n",
        "<br><br>\n",
        "Regression Models are used to predict a continuous value.\n",
        "\n",
        "\n",
        "\n",
        "\n"
      ]
    },
    {
      "cell_type": "markdown",
      "metadata": {
        "id": "PR_X8oLh7T8W"
      },
      "source": [
        "## <font color='green'>Linear Regression</font>"
      ]
    },
    {
      "cell_type": "markdown",
      "metadata": {
        "id": "i74lk2wREUt_"
      },
      "source": [
        "### Why are we learning linear regression?\n",
        "\n",
        "1. widely used\n",
        "2. runs fast\n",
        "3. easy to use (not a lot of tuning required)\n",
        "4. highly interpretable\n",
        "5. basis for many other complex methods"
      ]
    },
    {
      "cell_type": "markdown",
      "metadata": {
        "id": "IF4d75U_O_8Q"
      },
      "source": [
        "### <font color='green'>Linear Regression Model</font> learning from simulated Example"
      ]
    },
    {
      "cell_type": "code",
      "metadata": {
        "id": "RsYYCjZB8RBt",
        "outputId": "70c7e5d4-fe84-4ba0-90df-44eb2675143d",
        "colab": {
          "base_uri": "https://localhost:8080/"
        }
      },
      "source": [
        "%matplotlib inline\n",
        "import matplotlib.pyplot as plt\n",
        "\n",
        "plt.style.use('seaborn-white')\n",
        "plt.style.context('seaborn-white')\n",
        "\n",
        "import seaborn as sns; \n",
        "\n",
        "import numpy as np"
      ],
      "execution_count": null,
      "outputs": [
        {
          "output_type": "stream",
          "text": [
            "/usr/local/lib/python3.6/dist-packages/statsmodels/tools/_testing.py:19: FutureWarning: pandas.util.testing is deprecated. Use the functions in the public API at pandas.testing instead.\n",
            "  import pandas.util.testing as tm\n"
          ],
          "name": "stderr"
        }
      ]
    },
    {
      "cell_type": "markdown",
      "metadata": {
        "id": "ALD53R5I8nXj"
      },
      "source": [
        "We will generate simulated linear data based on:\n",
        "<br>\n",
        "    linear equation: y = 3*x - 6\n",
        "<br>So: \n",
        "*  Coefficient is 3\n",
        "\n",
        "*   Intercept is -6\n",
        "\n",
        "We will then use Linear Regression Model to \"learn\" both the coefficient and the intercept from simulated data.\n"
      ]
    },
    {
      "cell_type": "code",
      "metadata": {
        "id": "5ucvtyR27T8Z",
        "outputId": "2ab979b2-ee64-4d3c-a037-451693d0b587",
        "colab": {
          "base_uri": "https://localhost:8080/"
        }
      },
      "source": [
        "# Generate simulated data\n",
        "rng = np.random.RandomState(1)\n",
        "\n",
        "x = 10 * rng.rand(80)\n",
        "\n",
        "y = 3 * x - 6 + rng.randn(80)- rng.randn(80)\n",
        "\n",
        "plt.scatter(x, y);"
      ],
      "execution_count": null,
      "outputs": [
        {
          "output_type": "display_data",
          "data": {
            "image/png": "[encoded data removed]",
            "text/plain": [
              "<Figure size 432x288 with 1 Axes>"
            ]
          },
          "metadata": {
            "tags": [],
            "needs_background": "light"
          }
        }
      ]
    },
    {
      "cell_type": "markdown",
      "metadata": {
        "id": "4uxbiH8d7T8e"
      },
      "source": [
        "Obviously the above data is linear.  We could assume the nature of the data distribution is really a straight line, and the reason that some data does not fall on the line is due to noise.\n",
        "<br><br>Time to create our model."
      ]
    },
    {
      "cell_type": "code",
      "metadata": {
        "id": "Q1r4US9q95AS"
      },
      "source": [
        "from sklearn.linear_model import LinearRegression\n",
        "model = LinearRegression()"
      ],
      "execution_count": null,
      "outputs": []
    },
    {
      "cell_type": "markdown",
      "metadata": {
        "id": "TXkMbbmP97Cr"
      },
      "source": [
        "Follow our previous template to \"learn\" from our data.  Well, in this linear case, we are actually trying to pick/fit a straight line to our data.  That's exactly where the name of method, **fit**(), coming from."
      ]
    },
    {
      "cell_type": "code",
      "metadata": {
        "id": "oPs5vnrO-hpC",
        "outputId": "51d6b408-6c0b-43a4-e0c4-daaac01ab773",
        "colab": {
          "base_uri": "https://localhost:8080/"
        }
      },
      "source": [
        "model.fit(x[:, None], y)\n",
        "\n",
        "# print intercept and coefficients\n",
        "print(\"Linear Regression Model coefficient=%.1f\" %model.coef_[0])\n",
        "print(\"Linear Regression Model intercept=%.1f\" %model.intercept_)"
      ],
      "execution_count": null,
      "outputs": [
        {
          "output_type": "stream",
          "text": [
            "Linear Regression Model coefficient=3.1\n",
            "Linear Regression Model intercept=-6.6\n"
          ],
          "name": "stdout"
        }
      ]
    },
    {
      "cell_type": "markdown",
      "metadata": {
        "id": "5t-INDeU-qPm"
      },
      "source": [
        "Well, linear regression model is smart enough to find the exact line: 3x-6!!\n",
        "<br><br>\n",
        "Actually it finds a line that's very close to the generating line:"
      ]
    },
    {
      "cell_type": "code",
      "metadata": {
        "id": "j-5njWPB_FvR",
        "outputId": "8eeacfbf-8a22-4f09-9573-2b5052e29a4c",
        "colab": {
          "base_uri": "https://localhost:8080/"
        }
      },
      "source": [
        "# print intercept and coefficients\n",
        "print(\"Linear Regression Model coefficient=%.2f\" %model.coef_[0])\n",
        "print(\"Linear Regression Model intercept=%.2f\" %model.intercept_)"
      ],
      "execution_count": null,
      "outputs": [
        {
          "output_type": "stream",
          "text": [
            "Linear Regression Model coefficient=3.11\n",
            "Linear Regression Model intercept=-6.59\n"
          ],
          "name": "stdout"
        }
      ]
    },
    {
      "cell_type": "markdown",
      "metadata": {
        "id": "5cp6U3nA_MYE"
      },
      "source": [
        "As always, <font color='blue'>Seeing is Believing</font>.  Let's visualize it!"
      ]
    },
    {
      "cell_type": "code",
      "metadata": {
        "id": "yACxLv-r7T8f",
        "outputId": "2c62841c-7591-427f-ec58-f510bad7a861",
        "colab": {
          "base_uri": "https://localhost:8080/"
        }
      },
      "source": [
        "xfit = np.linspace(0, 10, 1000)\n",
        "yfit = model.predict(xfit[:, None])\n",
        "\n",
        "plt.scatter(x, y)\n",
        "plt.plot(xfit, yfit, color='r');"
      ],
      "execution_count": null,
      "outputs": [
        {
          "output_type": "display_data",
          "data": {
            "image/png": "[encoded data removed]",
            "text/plain": [
              "<Figure size 432x288 with 1 Axes>"
            ]
          },
          "metadata": {
            "tags": [],
            "needs_background": "light"
          }
        }
      ]
    },
    {
      "cell_type": "markdown",
      "metadata": {
        "id": "RpIo_IBT7T8l"
      },
      "source": [
        "Why this <font color='red'>red</font> line? Why not another line that tilted slightly left?  Why not tilted slightly right?"
      ]
    },
    {
      "cell_type": "markdown",
      "metadata": {
        "id": "BzgV9AAY3Ij7"
      },
      "source": [
        "### <font color='green'>Estimating (\"Learning\") Model Coefficients</font>"
      ]
    },
    {
      "cell_type": "markdown",
      "metadata": {
        "id": "FKZqUh3hN47Q"
      },
      "source": [
        "Coefficients and intercepts are estimated using **the least squares criterion**, which finds the line which minimizes the **sum of squared regression residuals** (also called, \"**sum of squared regression errors(SSR)**\"):"
      ]
    },
    {
      "cell_type": "markdown",
      "metadata": {
        "id": "M8dQ2nQOD76E"
      },
      "source": [
        "<table><tr>\n",
        "<td> <img src=\"https://pro.arcgis.com/en/pro-app/tool-reference/spatial-statistics/GUID-8278E3D7-7E53-4DEF-B0B8-8BE33F969BEA-web.png\" style=\"width: 250px;\"/> </td>\n",
        "<td> <img src=\"https://i0.wp.com/www.fairlynerdy.com/wp-content/uploads/2017/01/r_squared_7.png?resize=625%2C280\" style=\"width: 250px;\"/> </td>\n",
        "</tr></table>\n",
        "\n"
      ]
    },
    {
      "cell_type": "markdown",
      "metadata": {
        "id": "L8GhULhOJ-mX"
      },
      "source": [
        "### A Taste of Statistics"
      ]
    },
    {
      "cell_type": "markdown",
      "metadata": {
        "id": "_8QuMSNRKCkL"
      },
      "source": [
        "Linear Regression is actually a powerful and common tool in Statistics.\n",
        "<br>\n",
        "**The coefficient of determination (${R}^2$)** summarizes the explanatory power of the regression model and is computed from the sums-of-squares terms.\n",
        "<br>\n",
        "<img src=\"https://www.saedsayad.com/images/MLR_r2.png\"/>"
      ]
    },
    {
      "cell_type": "markdown",
      "metadata": {
        "id": "U9RnOYz2cSW5"
      },
      "source": [
        "${R}^2$ describes the proportion of variance of the dependent variable explained by the regression model.  \n",
        "<br><br>**We would like our model have a bigger ${R}^2$ value, because it would mean our model explain the variance well.**\n",
        "<br><br>If the regression model is “**perfect**”, SSR is the same as SST, and **${R}^2$ is 1**. \n",
        "<br><br>If the regression model is **a total failure**, SSE is equal to SST, no variance is explained by regression, and **${R}^2$ is 0**.\n"
      ]
    },
    {
      "cell_type": "markdown",
      "metadata": {
        "id": "dF4krOpjeFh9"
      },
      "source": [
        "### <font color='green'>Calculate ${R}^2$ value (fit of model)</font>"
      ]
    },
    {
      "cell_type": "markdown",
      "metadata": {
        "id": "piJ2w_79ePgg"
      },
      "source": [
        "Luckily, ${R}^2$ is already calculated by machine learning library.  We only need to feed the real dependent variable values and the predicted values to it.\n",
        "<br><br>As you see below, we have a very big ${R}^2$ value, almost equals 1.  It shows our model is a good fit for the simulated data!"
      ]
    },
    {
      "cell_type": "code",
      "metadata": {
        "id": "isnZzMyHnYqu",
        "outputId": "71dfbb97-8302-421c-eaaf-7dfb58e17613",
        "colab": {
          "base_uri": "https://localhost:8080/"
        }
      },
      "source": [
        "model.score(x[:, None], y)"
      ],
      "execution_count": null,
      "outputs": [
        {
          "output_type": "execute_result",
          "data": {
            "text/plain": [
              "0.9823737499529006"
            ]
          },
          "metadata": {
            "tags": []
          },
          "execution_count": 7
        }
      ]
    },
    {
      "cell_type": "markdown",
      "metadata": {
        "id": "k457N4AmjWBM"
      },
      "source": [
        "## <font color='green'>KNN Regression</font>"
      ]
    },
    {
      "cell_type": "markdown",
      "metadata": {
        "id": "tpDpRcK6jd7X"
      },
      "source": [
        "Actually, KNN model is not just for Classification.  It could be used for Regression too.\n",
        "<br><br>\n",
        "The only thing different is:\n",
        "\n",
        "*   for KNN Classification model, the predicted value is the class membership decided by the majority vote by its K nearest neighbors;\n",
        "*  for KNN Regression model, the predicted value is the average of the dependent variables of its K nearest neighbors.\n",
        "\n"
      ]
    },
    {
      "cell_type": "code",
      "metadata": {
        "id": "nP9h9uO9lisc",
        "outputId": "42845351-aae3-4f9c-c653-24fe0d768486",
        "colab": {
          "base_uri": "https://localhost:8080/"
        }
      },
      "source": [
        "from sklearn.neighbors import KNeighborsRegressor\n",
        "\n",
        "knn = KNeighborsRegressor(n_neighbors=5)\n",
        "\n",
        "knn.fit(x[:,None], y) "
      ],
      "execution_count": null,
      "outputs": [
        {
          "output_type": "execute_result",
          "data": {
            "text/plain": [
              "KNeighborsRegressor(algorithm='auto', leaf_size=30, metric='minkowski',\n",
              "                    metric_params=None, n_jobs=None, n_neighbors=5, p=2,\n",
              "                    weights='uniform')"
            ]
          },
          "metadata": {
            "tags": []
          },
          "execution_count": 8
        }
      ]
    },
    {
      "cell_type": "markdown",
      "metadata": {
        "id": "vF9WosDnl5tC"
      },
      "source": [
        "Let's visualize again:"
      ]
    },
    {
      "cell_type": "code",
      "metadata": {
        "id": "M0LC2GTdjcA3",
        "outputId": "f9102897-1fa0-439b-d274-84db7ef9c80b",
        "colab": {
          "base_uri": "https://localhost:8080/"
        }
      },
      "source": [
        "xKnnFit = np.linspace(0, 10, 1000)\n",
        "yKnnFit = knn.predict(xKnnFit[:, None])\n",
        "\n",
        "plt.scatter(x, y)\n",
        "plt.plot(xfit, yfit, color='r');\n",
        "plt.plot(xKnnFit, yKnnFit, color='orange');\n"
      ],
      "execution_count": null,
      "outputs": [
        {
          "output_type": "display_data",
          "data": {
            "image/png": "[encoded data removed]",
            "text/plain": [
              "<Figure size 432x288 with 1 Axes>"
            ]
          },
          "metadata": {
            "tags": [],
            "needs_background": "light"
          }
        }
      ]
    },
    {
      "cell_type": "markdown",
      "metadata": {
        "id": "lup_JuyRmALE"
      },
      "source": [
        "How about the fit of the model?"
      ]
    },
    {
      "cell_type": "code",
      "metadata": {
        "id": "BBOncvnnmB6S",
        "outputId": "c834c083-cb50-447b-a93c-3b7c0bdff9a2",
        "colab": {
          "base_uri": "https://localhost:8080/"
        }
      },
      "source": [
        "print(\"R Squared of LinearRegression Model = \" + str( model.score(x[:, None], y)))\n",
        "print(\"R Squared of KNNRegressor     Model = \" + str( knn.score(x[:, None], y)))"
      ],
      "execution_count": null,
      "outputs": [
        {
          "output_type": "stream",
          "text": [
            "R Squared of LinearRegression Model = 0.9823737499529006\n",
            "R Squared of KNNRegressor     Model = 0.9863808221683533\n"
          ],
          "name": "stdout"
        }
      ]
    },
    {
      "cell_type": "markdown",
      "metadata": {
        "id": "TIxJ0TXcncWD"
      },
      "source": [
        "## <font color='green'>Which Model is better?</font>"
      ]
    },
    {
      "cell_type": "markdown",
      "metadata": {
        "id": "yRTIjtkYnmpB"
      },
      "source": [
        "KNN Regression model has a better fit on training data.  But the training fit might hurt when the model is applied to test data (we didn't generate test data here), because that if the nature of the data is really linear, then KNN model might be more misled by the noise in the training data.  It is also called **overfit** training data.\n",
        "<br>\n",
        "![alt text](https://cdn-images-1.medium.com/max/1125/1*_7OPgojau8hkiPUiHoGK_w.png)\n",
        "<br><br>What we prefer is a good fit to the real world data (or test data), where KNN Regression model might not be better."
      ]
    },
    {
      "cell_type": "markdown",
      "metadata": {
        "id": "rHp8eZ27-ZNS"
      },
      "source": [
        "# <font color='green'>How do Machine Learning Models <u>*Learn*</u> Training Data?</font>"
      ]
    },
    {
      "cell_type": "markdown",
      "metadata": {
        "id": "K-U3V6nN_AMI"
      },
      "source": [
        "We explained how KNN model fit data.  That is a special case.  How does general Machine Learning Model fit traing data?"
      ]
    },
    {
      "cell_type": "markdown",
      "metadata": {
        "id": "YlfMTWwJ_iaO"
      },
      "source": [
        "##<font color='green'>Cost Function</font>"
      ]
    },
    {
      "cell_type": "markdown",
      "metadata": {
        "id": "yP4ThB8K_qop"
      },
      "source": [
        "As discussed in Linear Regression, Machine Learning Algorithm needs a criteria to judge how good is the fit, and use it to adjust model parameters to figure out the best model (parameters).  This criteria is also called **Cost Function**, and the goal is to find the minimum of the Cost Function.\n",
        "<br><br>\n",
        "In terms of Linear Regression, the **Cost Function** is the **sum of squared regression\n",
        "error (SSRE)**.  The goal is to find the model parameters (linear coefficient and intercept) that results in the **least** SSRE.\n",
        "<br>\n",
        "<img src=\"https://engmrk.com/wp-content/uploads/2018/05/cost-function-with-one-optima.jpg\" style=\"width: 250px;\"/>\n"
      ]
    },
    {
      "cell_type": "markdown",
      "metadata": {
        "id": "r7nlun1LBpTp"
      },
      "source": [
        "## <font color='green'>Searching for the Minimum Value of Cost Function</font>"
      ]
    },
    {
      "cell_type": "markdown",
      "metadata": {
        "id": "5UuAN-RaB12i"
      },
      "source": [
        "ML Algorithm will start from a random point, ${x_0}$, calculate the value of Cost Function at that point, J(${x_0}$).  \n",
        "<br>Then it will check whether J(${x_0}$) is the minimum in ${x_0}$'s neighborhood.  If not, it will move to another point, ${x_1}$=${x_0}$+${delta_0}$, where J(${x_1}$) < J(${x_0}$).\n",
        "<br><br>Then the progress continues.  If J(${x_1}$) is not the minimum in ${x_1}$'s neighborhood, it will move to another point, ${x_2}$=${x_1}$+${delta_1}$, where J(${x_2}$) < J(${x_1}$).\n",
        "<br><br>If ML Algorithm reachs a point ${x_k}$, where J(${xk0}$) is the minimum in ${x_k}$'s neighborhood.  Then it finds the best **fit**.  It will stop and use the model parameters at this point  as the best (fit) model.\n",
        "<br><br>\n",
        "![alt text](https://cdn-images-1.medium.com/max/1600/1*UUHvSixG7rX2EfNFTtqBDA.gif)\n"
      ]
    },
    {
      "cell_type": "markdown",
      "metadata": {
        "id": "HEhEyt2eFT5N"
      },
      "source": [
        "## <font color='green'>Gradient Descent</font>"
      ]
    },
    {
      "cell_type": "markdown",
      "metadata": {
        "id": "ewvfW1-8EXKY"
      },
      "source": [
        "The Algorithm of searching for minimum of Cost Function is called **Gradient Descent**.  It is an optimization technique to find local optimum.\n",
        "<br><br>***Optional*** The word, \"Gradient\", is related to Calculus.  If/when you learn Calculus, you will learn that derivative is the best way to find local minimum or local maximum.  Gradient is a multi-variable generalization of the derivative.\n",
        "<br><br>\n",
        "**Ignore** the derivative signs below if you have yet to learn Calculus.  We will explain Backpropagation when we discuss Neural Network Models.\n",
        "<br><br>\n",
        "![alt text](https://image.slidesharecdn.com/seminar-160314065246/95/intro-to-deep-learning-autoencoders-15-638.jpg?cb=1457940886)"
      ]
    },
    {
      "cell_type": "markdown",
      "metadata": {
        "id": "2TvdBVB2HHzw"
      },
      "source": [
        "##<font color='green'>Learning Rate</font>"
      ]
    },
    {
      "cell_type": "markdown",
      "metadata": {
        "id": "oWH0MLxKJYHJ"
      },
      "source": [
        "### <font color='green'>Gradient Descent Step Size</font>"
      ]
    },
    {
      "cell_type": "markdown",
      "metadata": {
        "id": "NjxGmKWTJhkS"
      },
      "source": [
        "Depending on the shape of the Cost Function, it might take only a few iterations, or it might take many many iterations.\n",
        "<br><br>\n",
        "The detals above (${delta_0}, ${delta_1}, ...) are related to learning rate.  It is also called Gradient Descent **step**.  "
      ]
    },
    {
      "cell_type": "markdown",
      "metadata": {
        "id": "lyjcpIBIJj4u"
      },
      "source": [
        "### Potential Issues"
      ]
    },
    {
      "cell_type": "markdown",
      "metadata": {
        "id": "PMGAD5teIGVV"
      },
      "source": [
        "The bigger the step size, the faster the learning rate.  The smaller the step size, the slower the learning rate.\n",
        "<br><br>If step size is too large, learning might miss local minimum value and, even, fail to converge.\n",
        "<br><br>If step size is too small, learning might take a long long time, especially for large data size.  Another issue is that learning might be trapped in local minimum and might miss global minimum.\n",
        "<br><br>\n",
        "![alt text](https://pbs.twimg.com/media/DK26ibcXUAEOwel.jpg)"
      ]
    },
    {
      "cell_type": "markdown",
      "metadata": {
        "id": "CJzhuyFGpJXv"
      },
      "source": [
        "# <font color='gold'>Ames, Iowa House Price Prediction</font>"
      ]
    },
    {
      "cell_type": "markdown",
      "metadata": {
        "id": "D3yDicm_rblr"
      },
      "source": [
        "We'll explore the Ames, Iowa Housing Dataset, prepared by Dean De Cock, and described in the paper Ames, Iowa: [Alternative to the Boston Housing Data as an End of Semester Regression Project.](https://ww2.amstat.org/publications/jse/v19n3/decock.pdf)\n",
        "<br><br>\n",
        "This data set describing the sale of individual residential property in Ames, Iowa\n",
        "from 2006 to 2010. The data set contains 79 explanatory\n",
        "variables (23 nominal, 23 ordinal, 14 discrete, and 20 continuous), describing (almost) every aspect of residential homes in Ames, Iowa with the goal of predicting the selling price of each home.. \n",
        "<br><br>\n",
        "[Ames, Iowa](https://en.wikipedia.org/wiki/Ames,_Iowa) is best known as the home of Iowa State University.  In 2010, Ames was ranked ninth on CNNMoney \"Best Places to Live\" list.\n",
        "<br>\n",
        "<table><tr>\n",
        "<td> <img src=\"http://pix.epodunk.com/locatorMaps/ia/IA_7134.gif\"/> </td>\n",
        "<td> <img src=\"https://www.kiplinger.com/kipimages/Iowa-State-University-of-Science-and-TechnologyEDITED.jpg\"/> </td>\n",
        "</tr></table>"
      ]
    },
    {
      "cell_type": "markdown",
      "metadata": {
        "id": "RxN3zmy8FrNM"
      },
      "source": [
        "##<font color='green'>Data Description</font>"
      ]
    },
    {
      "cell_type": "markdown",
      "metadata": {
        "id": "O63eGyMQMXPB"
      },
      "source": [
        "###<font color='green'>Feature Description</font>\n"
      ]
    },
    {
      "cell_type": "markdown",
      "metadata": {
        "id": "LI7rRDmFTfT0"
      },
      "source": [
        "* SalePrice — the property's sale price in dollars. This is the target variable that you're trying to predict.\n",
        "* MSSubClass — The building class\n",
        "* MSZoning — The general zoning classification\n",
        "* LotFrontage — Linear feet of street connected to property\n",
        "* LotArea — Lot size in square feet\n",
        "* Street — Type of road access\n",
        "* Alley — Type of alley access\n",
        "* LotShape — General shape of property\n",
        "* LandContour — Flatness of the property\n",
        "* Utilities — Type of utilities available\n",
        "* LotConfig — Lot configuration\n",
        "* LandSlope: Slope of property\n",
        "* Neighborhood: Physical locations within Ames city limits\n",
        "* Condition1: Proximity to main road or railroad\n",
        "* Condition2: Proximity to main road or railroad (if a second is present)\n",
        "* BldgType: Type of dwelling\n",
        "* HouseStyle: Style of dwelling\n",
        "* OverallQual: Overall material and finish quality\n",
        "* OverallCond: Overall condition rating\n",
        "* YearBuilt: Original construction date\n",
        "* YearRemodAdd: Remodel date\n",
        "* RoofStyle: Type of roof\n",
        "* RoofMatl: Roof material\n",
        "* Exterior1st: Exterior covering on house\n",
        "* Exterior2nd: Exterior covering on house (if more than one material)\n",
        "* MasVnrType: Masonry veneer type\n",
        "* MasVnrArea: Masonry veneer area in square feet\n",
        "* ExterQual: Exterior material quality\n",
        "* ExterCond: Present condition of the material on the exterior\n",
        "* Foundation: Type of foundation\n",
        "* BsmtQual: Height of the basement\n",
        "* BsmtCond: General condition of the basement\n",
        "* BsmtExposure: Walkout or garden level basement walls\n",
        "* BsmtFinType1: Quality of basement finished area\n",
        "* BsmtFinSF1: Type 1 finished square feet\n",
        "* BsmtFinType2: Quality of second finished area (if present)\n",
        "* BsmtFinSF2: Type 2 finished square feet\n",
        "* BsmtUnfSF: Unfinished square feet of basement area\n",
        "* TotalBsmtSF: Total square feet of basement area\n",
        "* Heating: Type of heating\n",
        "* HeatingQC: Heating quality and condition\n",
        "* CentralAir: Central air conditioning\n",
        "* Electrical: Electrical system\n",
        "* 1stFlrSF: First Floor square feet\n",
        "* 2ndFlrSF: Second floor square feet\n",
        "* LowQualFinSF: Low quality finished square feet (all floors)\n",
        "* GrLivArea: Above grade (ground) living area square feet\n",
        "* BsmtFullBath: Basement full bathrooms\n",
        "* BsmtHalfBath: Basement half bathrooms\n",
        "* FullBath: Full bathrooms above grade\n",
        "* HalfBath: Half baths above grade\n",
        "* Bedroom: Number of bedrooms above basement level\n",
        "* Kitchen: Number of kitchens\n",
        "* KitchenQual: Kitchen quality\n",
        "* TotRmsAbvGrd: Total rooms above grade (does not include bathrooms)\n",
        "* Functional: Home functionality rating\n",
        "* Fireplaces: Number of fireplaces\n",
        "* FireplaceQu: Fireplace quality\n",
        "* GarageType: Garage location\n",
        "* GarageYrBlt: Year garage was built\n",
        "* GarageFinish: Interior finish of the garage\n",
        "* GarageCars: Size of garage in car capacity\n",
        "* GarageArea: Size of garage in square feet\n",
        "* GarageQual: Garage quality\n",
        "* GarageCond: Garage condition\n",
        "* PavedDrive: Paved driveway\n",
        "* WoodDeckSF: Wood deck area in square feet\n",
        "* OpenPorchSF: Open porch area in square feet\n",
        "* EnclosedPorch: Enclosed porch area in square feet\n",
        "* 3SsnPorch: Three season porch area in square feet\n",
        "* ScreenPorch: Screen porch area in square feet\n",
        "* PoolArea: Pool area in square feet\n",
        "* PoolQC: Pool quality\n",
        "* Fence: Fence quality\n",
        "* MiscFeature: Miscellaneous feature not covered in other categories\n",
        "* MiscVal: $Value of miscellaneous feature\n",
        "* MoSold: Month Sold\n",
        "* YrSold: Year Sold\n",
        "* SaleType: Type of sale\n",
        "* SaleCondition: Condition of sale"
      ]
    },
    {
      "cell_type": "markdown",
      "metadata": {
        "id": "RbCnldmFMKau"
      },
      "source": [
        "### <font color='green'>Feature Value Description</font>"
      ]
    },
    {
      "cell_type": "markdown",
      "metadata": {
        "id": "TLNz5Wv-MPn1"
      },
      "source": [
        "Due to the vast number of features and possible values, please see full value description via this [link](http://jse.amstat.org/v19n3/decock/DataDocumentation.txt). Below is a sample:\n",
        "<br><br>\n",
        "\n",
        "Exterior 1 (Nominal):  Exterior covering on house\n",
        "\n",
        "       AsbShng\tAsbestos Shingles\n",
        "       AsphShn\tAsphalt Shingles\n",
        "       BrkComm\tBrick Common\n",
        "       BrkFace\tBrick Face\n",
        "       CBlock\t  Cinder Block\n",
        "       CemntBd\tCement Board\n",
        "       HdBoard\tHard Board\n",
        "       ImStucc\tImitation Stucco\n",
        "       MetalSd\tMetal Siding\n",
        "       Other\t  Other\n",
        "       Plywood\tPlywood\n",
        "       PreCast\tPreCast\t\n",
        "       Stone\t  Stone\n",
        "       Stucco\t  Stucco\n",
        "       VinylSd\tVinyl Siding\n",
        "       Wd Sdng\tWood Siding\n",
        "       WdShing\tWood Shingles\n",
        "\n",
        "Bsmt Qual (Ordinal): Evaluates the height of the basement\n",
        "\n",
        "       Ex\tExcellent (100+ inches)\t\n",
        "       Gd\tGood (90-99 inches)\n",
        "       TA\tTypical (80-89 inches)\n",
        "       Fa\tFair (70-79 inches)\n",
        "       Po\tPoor (<70 inches\n",
        "       NA\tNo Basement\n",
        "\t\t\n",
        "Garage Type (Nominal): Garage location\n",
        "\t\t\n",
        "       2Types\t  More than one type of garage\n",
        "       Attchd\t  Attached to home\n",
        "       Basment\tBasement Garage\n",
        "       BuiltIn\tBuilt-In (Garage part of house - typically has room above garage)\n",
        "       CarPort\tCar Port\n",
        "       Detchd\t  Detached from home\n",
        "       NA\t      No Garage\n",
        "\t\t\n"
      ]
    },
    {
      "cell_type": "markdown",
      "metadata": {
        "id": "hSaL5D0XIH0x"
      },
      "source": [
        "\n",
        "## <font color='green'>Upload data file to Google Colab Notebook</font>"
      ]
    },
    {
      "cell_type": "code",
      "metadata": {
        "id": "cmFlMVcEpMAV",
        "outputId": "5ac27b58-490a-47b9-e28b-8fe39a305e71",
        "colab": {
          "base_uri": "https://localhost:8080/"
        }
      },
      "source": [
        "'''\n",
        "from google.colab import files\n",
        "\n",
        "uploaded = files.upload()\n",
        "'''"
      ],
      "execution_count": null,
      "outputs": [
        {
          "output_type": "execute_result",
          "data": {
            "application/vnd.google.colaboratory.intrinsic+json": {
              "type": "string"
            },
            "text/plain": [
              "'\\nfrom google.colab import files\\n\\nuploaded = files.upload()\\n'"
            ]
          },
          "metadata": {
            "tags": []
          },
          "execution_count": 11
        }
      ]
    },
    {
      "cell_type": "markdown",
      "metadata": {
        "id": "0Js3nIzxUKn1"
      },
      "source": [
        "If you need, you could download files from Google Colab Research computer too:"
      ]
    },
    {
      "cell_type": "code",
      "metadata": {
        "id": "GtiVhJewQu3x",
        "outputId": "754b082f-abfc-4969-83cc-bc38f6abe943",
        "colab": {
          "base_uri": "https://localhost:8080/"
        }
      },
      "source": [
        "'''\n",
        "from google.colab import files\n",
        "\n",
        "with open('for_download_test.txt', 'w') as f:\n",
        "  f.write('Hello, Big Data Club')\n",
        "\n",
        "files.download('for_download_test.txt')\n",
        "'''"
      ],
      "execution_count": null,
      "outputs": [
        {
          "output_type": "execute_result",
          "data": {
            "application/vnd.google.colaboratory.intrinsic+json": {
              "type": "string"
            },
            "text/plain": [
              "\"\\nfrom google.colab import files\\n\\nwith open('for_download_test.txt', 'w') as f:\\n  f.write('Hello, Big Data Club')\\n\\nfiles.download('for_download_test.txt')\\n\""
            ]
          },
          "metadata": {
            "tags": []
          },
          "execution_count": 12
        }
      ]
    },
    {
      "cell_type": "markdown",
      "metadata": {
        "id": "mVXh8xAoUaSt"
      },
      "source": [
        "## <font color='green'>Load Data into Pandas</font>"
      ]
    },
    {
      "cell_type": "code",
      "metadata": {
        "id": "a7A7YE8WQLOP"
      },
      "source": [
        "%matplotlib inline\n",
        "import matplotlib.pyplot as plt\n",
        "\n",
        "plt.style.use('seaborn-white')\n",
        "plt.style.context('seaborn-white')\n",
        "\n",
        "import pandas as pd\n",
        "import numpy as np"
      ],
      "execution_count": null,
      "outputs": []
    },
    {
      "cell_type": "code",
      "metadata": {
        "id": "KODBHQHYQG6e",
        "outputId": "51da5c21-90cf-4a9e-f7b5-b188c6ce2395",
        "colab": {
          "base_uri": "https://localhost:8080/",
          "height": 375
        }
      },
      "source": [
        "train = pd.read_csv('train.csv')"
      ],
      "execution_count": null,
      "outputs": [
        {
          "output_type": "error",
          "ename": "FileNotFoundError",
          "evalue": "ignored",
          "traceback": [
            "\u001b[0;31m---------------------------------------------------------------------------\u001b[0m",
            "\u001b[0;31mFileNotFoundError\u001b[0m                         Traceback (most recent call last)",
            "\u001b[0;32m<ipython-input-14-f1a1f2ce149f>\u001b[0m in \u001b[0;36m<module>\u001b[0;34m()\u001b[0m\n\u001b[0;32m----> 1\u001b[0;31m \u001b[0mtrain\u001b[0m \u001b[0;34m=\u001b[0m \u001b[0mpd\u001b[0m\u001b[0;34m.\u001b[0m\u001b[0mread_csv\u001b[0m\u001b[0;34m(\u001b[0m\u001b[0;34m'train.csv'\u001b[0m\u001b[0;34m)\u001b[0m\u001b[0;34m\u001b[0m\u001b[0;34m\u001b[0m\u001b[0m\n\u001b[0m",
            "\u001b[0;32m/usr/local/lib/python3.6/dist-packages/pandas/io/parsers.py\u001b[0m in \u001b[0;36mparser_f\u001b[0;34m(filepath_or_buffer, sep, delimiter, header, names, index_col, usecols, squeeze, prefix, mangle_dupe_cols, dtype, engine, converters, true_values, false_values, skipinitialspace, skiprows, skipfooter, nrows, na_values, keep_default_na, na_filter, verbose, skip_blank_lines, parse_dates, infer_datetime_format, keep_date_col, date_parser, dayfirst, cache_dates, iterator, chunksize, compression, thousands, decimal, lineterminator, quotechar, quoting, doublequote, escapechar, comment, encoding, dialect, error_bad_lines, warn_bad_lines, delim_whitespace, low_memory, memory_map, float_precision)\u001b[0m\n\u001b[1;32m    674\u001b[0m         )\n\u001b[1;32m    675\u001b[0m \u001b[0;34m\u001b[0m\u001b[0m\n\u001b[0;32m--> 676\u001b[0;31m         \u001b[0;32mreturn\u001b[0m \u001b[0m_read\u001b[0m\u001b[0;34m(\u001b[0m\u001b[0mfilepath_or_buffer\u001b[0m\u001b[0;34m,\u001b[0m \u001b[0mkwds\u001b[0m\u001b[0;34m)\u001b[0m\u001b[0;34m\u001b[0m\u001b[0;34m\u001b[0m\u001b[0m\n\u001b[0m\u001b[1;32m    677\u001b[0m \u001b[0;34m\u001b[0m\u001b[0m\n\u001b[1;32m    678\u001b[0m     \u001b[0mparser_f\u001b[0m\u001b[0;34m.\u001b[0m\u001b[0m__name__\u001b[0m \u001b[0;34m=\u001b[0m \u001b[0mname\u001b[0m\u001b[0;34m\u001b[0m\u001b[0;34m\u001b[0m\u001b[0m\n",
            "\u001b[0;32m/usr/local/lib/python3.6/dist-packages/pandas/io/parsers.py\u001b[0m in \u001b[0;36m_read\u001b[0;34m(filepath_or_buffer, kwds)\u001b[0m\n\u001b[1;32m    446\u001b[0m \u001b[0;34m\u001b[0m\u001b[0m\n\u001b[1;32m    447\u001b[0m     \u001b[0;31m# Create the parser.\u001b[0m\u001b[0;34m\u001b[0m\u001b[0;34m\u001b[0m\u001b[0;34m\u001b[0m\u001b[0m\n\u001b[0;32m--> 448\u001b[0;31m     \u001b[0mparser\u001b[0m \u001b[0;34m=\u001b[0m \u001b[0mTextFileReader\u001b[0m\u001b[0;34m(\u001b[0m\u001b[0mfp_or_buf\u001b[0m\u001b[0;34m,\u001b[0m \u001b[0;34m**\u001b[0m\u001b[0mkwds\u001b[0m\u001b[0;34m)\u001b[0m\u001b[0;34m\u001b[0m\u001b[0;34m\u001b[0m\u001b[0m\n\u001b[0m\u001b[1;32m    449\u001b[0m \u001b[0;34m\u001b[0m\u001b[0m\n\u001b[1;32m    450\u001b[0m     \u001b[0;32mif\u001b[0m \u001b[0mchunksize\u001b[0m \u001b[0;32mor\u001b[0m \u001b[0miterator\u001b[0m\u001b[0;34m:\u001b[0m\u001b[0;34m\u001b[0m\u001b[0;34m\u001b[0m\u001b[0m\n",
            "\u001b[0;32m/usr/local/lib/python3.6/dist-packages/pandas/io/parsers.py\u001b[0m in \u001b[0;36m__init__\u001b[0;34m(self, f, engine, **kwds)\u001b[0m\n\u001b[1;32m    878\u001b[0m             \u001b[0mself\u001b[0m\u001b[0;34m.\u001b[0m\u001b[0moptions\u001b[0m\u001b[0;34m[\u001b[0m\u001b[0;34m\"has_index_names\"\u001b[0m\u001b[0;34m]\u001b[0m \u001b[0;34m=\u001b[0m \u001b[0mkwds\u001b[0m\u001b[0;34m[\u001b[0m\u001b[0;34m\"has_index_names\"\u001b[0m\u001b[0;34m]\u001b[0m\u001b[0;34m\u001b[0m\u001b[0;34m\u001b[0m\u001b[0m\n\u001b[1;32m    879\u001b[0m \u001b[0;34m\u001b[0m\u001b[0m\n\u001b[0;32m--> 880\u001b[0;31m         \u001b[0mself\u001b[0m\u001b[0;34m.\u001b[0m\u001b[0m_make_engine\u001b[0m\u001b[0;34m(\u001b[0m\u001b[0mself\u001b[0m\u001b[0;34m.\u001b[0m\u001b[0mengine\u001b[0m\u001b[0;34m)\u001b[0m\u001b[0;34m\u001b[0m\u001b[0;34m\u001b[0m\u001b[0m\n\u001b[0m\u001b[1;32m    881\u001b[0m \u001b[0;34m\u001b[0m\u001b[0m\n\u001b[1;32m    882\u001b[0m     \u001b[0;32mdef\u001b[0m \u001b[0mclose\u001b[0m\u001b[0;34m(\u001b[0m\u001b[0mself\u001b[0m\u001b[0;34m)\u001b[0m\u001b[0;34m:\u001b[0m\u001b[0;34m\u001b[0m\u001b[0;34m\u001b[0m\u001b[0m\n",
            "\u001b[0;32m/usr/local/lib/python3.6/dist-packages/pandas/io/parsers.py\u001b[0m in \u001b[0;36m_make_engine\u001b[0;34m(self, engine)\u001b[0m\n\u001b[1;32m   1112\u001b[0m     \u001b[0;32mdef\u001b[0m \u001b[0m_make_engine\u001b[0m\u001b[0;34m(\u001b[0m\u001b[0mself\u001b[0m\u001b[0;34m,\u001b[0m \u001b[0mengine\u001b[0m\u001b[0;34m=\u001b[0m\u001b[0;34m\"c\"\u001b[0m\u001b[0;34m)\u001b[0m\u001b[0;34m:\u001b[0m\u001b[0;34m\u001b[0m\u001b[0;34m\u001b[0m\u001b[0m\n\u001b[1;32m   1113\u001b[0m         \u001b[0;32mif\u001b[0m \u001b[0mengine\u001b[0m \u001b[0;34m==\u001b[0m \u001b[0;34m\"c\"\u001b[0m\u001b[0;34m:\u001b[0m\u001b[0;34m\u001b[0m\u001b[0;34m\u001b[0m\u001b[0m\n\u001b[0;32m-> 1114\u001b[0;31m             \u001b[0mself\u001b[0m\u001b[0;34m.\u001b[0m\u001b[0m_engine\u001b[0m \u001b[0;34m=\u001b[0m \u001b[0mCParserWrapper\u001b[0m\u001b[0;34m(\u001b[0m\u001b[0mself\u001b[0m\u001b[0;34m.\u001b[0m\u001b[0mf\u001b[0m\u001b[0;34m,\u001b[0m \u001b[0;34m**\u001b[0m\u001b[0mself\u001b[0m\u001b[0;34m.\u001b[0m\u001b[0moptions\u001b[0m\u001b[0;34m)\u001b[0m\u001b[0;34m\u001b[0m\u001b[0;34m\u001b[0m\u001b[0m\n\u001b[0m\u001b[1;32m   1115\u001b[0m         \u001b[0;32melse\u001b[0m\u001b[0;34m:\u001b[0m\u001b[0;34m\u001b[0m\u001b[0;34m\u001b[0m\u001b[0m\n\u001b[1;32m   1116\u001b[0m             \u001b[0;32mif\u001b[0m \u001b[0mengine\u001b[0m \u001b[0;34m==\u001b[0m \u001b[0;34m\"python\"\u001b[0m\u001b[0;34m:\u001b[0m\u001b[0;34m\u001b[0m\u001b[0;34m\u001b[0m\u001b[0m\n",
            "\u001b[0;32m/usr/local/lib/python3.6/dist-packages/pandas/io/parsers.py\u001b[0m in \u001b[0;36m__init__\u001b[0;34m(self, src, **kwds)\u001b[0m\n\u001b[1;32m   1889\u001b[0m         \u001b[0mkwds\u001b[0m\u001b[0;34m[\u001b[0m\u001b[0;34m\"usecols\"\u001b[0m\u001b[0;34m]\u001b[0m \u001b[0;34m=\u001b[0m \u001b[0mself\u001b[0m\u001b[0;34m.\u001b[0m\u001b[0musecols\u001b[0m\u001b[0;34m\u001b[0m\u001b[0;34m\u001b[0m\u001b[0m\n\u001b[1;32m   1890\u001b[0m \u001b[0;34m\u001b[0m\u001b[0m\n\u001b[0;32m-> 1891\u001b[0;31m         \u001b[0mself\u001b[0m\u001b[0;34m.\u001b[0m\u001b[0m_reader\u001b[0m \u001b[0;34m=\u001b[0m \u001b[0mparsers\u001b[0m\u001b[0;34m.\u001b[0m\u001b[0mTextReader\u001b[0m\u001b[0;34m(\u001b[0m\u001b[0msrc\u001b[0m\u001b[0;34m,\u001b[0m \u001b[0;34m**\u001b[0m\u001b[0mkwds\u001b[0m\u001b[0;34m)\u001b[0m\u001b[0;34m\u001b[0m\u001b[0;34m\u001b[0m\u001b[0m\n\u001b[0m\u001b[1;32m   1892\u001b[0m         \u001b[0mself\u001b[0m\u001b[0;34m.\u001b[0m\u001b[0munnamed_cols\u001b[0m \u001b[0;34m=\u001b[0m \u001b[0mself\u001b[0m\u001b[0;34m.\u001b[0m\u001b[0m_reader\u001b[0m\u001b[0;34m.\u001b[0m\u001b[0munnamed_cols\u001b[0m\u001b[0;34m\u001b[0m\u001b[0;34m\u001b[0m\u001b[0m\n\u001b[1;32m   1893\u001b[0m \u001b[0;34m\u001b[0m\u001b[0m\n",
            "\u001b[0;32mpandas/_libs/parsers.pyx\u001b[0m in \u001b[0;36mpandas._libs.parsers.TextReader.__cinit__\u001b[0;34m()\u001b[0m\n",
            "\u001b[0;32mpandas/_libs/parsers.pyx\u001b[0m in \u001b[0;36mpandas._libs.parsers.TextReader._setup_parser_source\u001b[0;34m()\u001b[0m\n",
            "\u001b[0;31mFileNotFoundError\u001b[0m: [Errno 2] File train.csv does not exist: 'train.csv'"
          ]
        }
      ]
    },
    {
      "cell_type": "code",
      "metadata": {
        "id": "63mS3OeQQHex"
      },
      "source": [
        "print (\"Train data shape:\", train.shape)"
      ],
      "execution_count": null,
      "outputs": []
    },
    {
      "cell_type": "code",
      "metadata": {
        "id": "KrJH87YRTFOC"
      },
      "source": [
        "train.head()"
      ],
      "execution_count": null,
      "outputs": []
    },
    {
      "cell_type": "markdown",
      "metadata": {
        "id": "8_9Zfnc0VFuA"
      },
      "source": [
        "## <font color='green'>Exploratory Data Analysis (EDA)</font>"
      ]
    },
    {
      "cell_type": "code",
      "metadata": {
        "id": "WvVvFLTgVJga"
      },
      "source": [
        "# How expensive are houses?\n",
        "print('The cheapest house sold for ${:,.0f} and the most expensive for ${:,.0f}'.format(\n",
        "    train.SalePrice.min(), train.SalePrice.max()))\n",
        "print('The average sales price is ${:,.0f}, while median is ${:,.0f}'.format(\n",
        "    train.SalePrice.mean(), train.SalePrice.median()))\n",
        "train.SalePrice.hist(bins=75, rwidth=.8, figsize=(14,4))\n",
        "plt.title('How expensive are houses?')\n",
        "plt.show()"
      ],
      "execution_count": null,
      "outputs": []
    },
    {
      "cell_type": "code",
      "metadata": {
        "id": "w907I_7AV-OJ"
      },
      "source": [
        "# When were the houses built?\n",
        "print('Oldest house built in {}. Newest house built in {}.'.format(\n",
        "    train.YearBuilt.min(), train.YearBuilt.max()))\n",
        "train.YearBuilt.hist(bins=14, rwidth=.9, figsize=(12,4))\n",
        "plt.title('When were the houses built?')\n",
        "plt.show()"
      ],
      "execution_count": null,
      "outputs": []
    },
    {
      "cell_type": "markdown",
      "metadata": {
        "id": "aiwVMXtjWPzt"
      },
      "source": [
        "Little building action in the 80s apparently. Majority of houses were built in the 50s and after."
      ]
    },
    {
      "cell_type": "code",
      "metadata": {
        "id": "7x4yS8LUWOy8"
      },
      "source": [
        "# When where houses sold?\n",
        "train.groupby(['YrSold','MoSold']).Id.count().plot(kind='bar', figsize=(14,4))\n",
        "plt.title('When where houses sold?')\n",
        "plt.show()"
      ],
      "execution_count": null,
      "outputs": []
    },
    {
      "cell_type": "markdown",
      "metadata": {
        "id": "x2thGzhCWvGc"
      },
      "source": [
        "It's easy to see an interesting strong seasonal pattern in house sales, with peaks in June and July.\n",
        "<br><br>\n",
        "The exception would be the July of 2010.  One posibility could be not all data was reported timely, hence couldn't be included in the dataset."
      ]
    },
    {
      "cell_type": "code",
      "metadata": {
        "id": "do3PZkciXVwu"
      },
      "source": [
        "# Where are houses?\n",
        "train.groupby('Neighborhood').Id.count().\\\n",
        "    sort_values().\\\n",
        "    plot(kind='barh', figsize=(6,6))\n",
        "plt.title('What neighborhoods are houses in?')\n",
        "plt.show()"
      ],
      "execution_count": null,
      "outputs": []
    },
    {
      "cell_type": "code",
      "metadata": {
        "id": "O8_yEdj1XfXs"
      },
      "source": [
        "# How big are houses\n",
        "print('The average house has {:,.0f} sq ft of space, the median {:,.0f} sq ft'.format(\n",
        "    train.GrLivArea.mean(), train.GrLivArea.median()))\n",
        "print('The biggest house has {:,.0f} sq ft of space, the smallest {:,.0f} sq ft'.format(\n",
        "    train.GrLivArea.max(), train.GrLivArea.min()))\n",
        "train.GrLivArea.hist(bins=21, rwidth=.8, figsize=(8,4))\n",
        "plt.title('How big are houses? (in sq feet)')\n",
        "plt.show()"
      ],
      "execution_count": null,
      "outputs": []
    },
    {
      "cell_type": "markdown",
      "metadata": {
        "id": "pOKCXNppYUtg"
      },
      "source": [
        "### Numerial Features"
      ]
    },
    {
      "cell_type": "code",
      "metadata": {
        "id": "fd8B7sahXtcb"
      },
      "source": [
        "# Let's start with our dependent variable, SalePrice\n",
        "plt.figure(figsize=(10,6))\n",
        "sns.distplot(train.SalePrice)\n",
        "plt.show()"
      ],
      "execution_count": null,
      "outputs": []
    },
    {
      "cell_type": "code",
      "metadata": {
        "id": "U8fHc5wqYm5T"
      },
      "source": [
        "def get_feature_groups():\n",
        "    \"\"\" Returns a list of numerical and categorical features,\n",
        "    excluding SalePrice and Id. \"\"\"\n",
        "    # Numerical Features\n",
        "    num_features = train.select_dtypes(include=['int64','float64']).columns\n",
        "    num_features = num_features.drop(['Id','SalePrice']) # drop ID and SalePrice\n",
        "\n",
        "    # Categorical Features\n",
        "    cat_features = train.select_dtypes(include=['object']).columns\n",
        "    return list(num_features), list(cat_features)\n",
        "\n",
        "num_features, cat_features = get_feature_groups()"
      ],
      "execution_count": null,
      "outputs": []
    },
    {
      "cell_type": "code",
      "metadata": {
        "id": "FJZAxqtnYYNq"
      },
      "source": [
        "# Grid of distribution plots of all numerical features\n",
        "f = pd.melt(train, value_vars=sorted(num_features))\n",
        "g = sns.FacetGrid(f, col='variable', col_wrap=4, sharex=False, sharey=False)\n",
        "g = g.map(sns.distplot, 'value')"
      ],
      "execution_count": null,
      "outputs": []
    },
    {
      "cell_type": "markdown",
      "metadata": {
        "id": "QEBKBkK0Y160"
      },
      "source": [
        "### Categorical Features"
      ]
    },
    {
      "cell_type": "code",
      "metadata": {
        "id": "AK9H0DRiY2nQ"
      },
      "source": [
        "# Count plots of categorical features\n",
        "f = pd.melt(train, value_vars=sorted(cat_features))\n",
        "g = sns.FacetGrid(f, col='variable', col_wrap=4, sharex=False, sharey=False)\n",
        "plt.xticks(rotation='vertical')\n",
        "g = g.map(sns.countplot, 'value')\n",
        "[plt.setp(ax.get_xticklabels(), rotation=60) for ax in g.axes.flat]\n",
        "g.fig.tight_layout()\n",
        "plt.show()"
      ],
      "execution_count": null,
      "outputs": []
    },
    {
      "cell_type": "markdown",
      "metadata": {
        "id": "SlXcD71IaKbn"
      },
      "source": [
        "### Relationship"
      ]
    },
    {
      "cell_type": "code",
      "metadata": {
        "id": "l10_6nLaaMJp"
      },
      "source": [
        "# Feature sorted by correlation to SalePrice, from positive to negative\n",
        "corr = train[['SalePrice'] + num_features].corr()\n",
        "corr = corr.sort_values('SalePrice', ascending=False)\n",
        "plt.figure(figsize=(8,10))\n",
        "sns.barplot( corr.SalePrice[1:], corr.index[1:], orient='h')\n",
        "plt.show()"
      ],
      "execution_count": null,
      "outputs": []
    },
    {
      "cell_type": "code",
      "metadata": {
        "id": "9RtJNE66a4Cn"
      },
      "source": [
        "# Count plots of categorical features\n",
        "f = pd.melt(train, id_vars=['SalePrice'], value_vars=sorted(cat_features))\n",
        "g = sns.FacetGrid(f, col='variable', col_wrap=3, sharex=False, sharey=False, size=4)\n",
        "g = g.map(sns.boxplot, 'value', 'SalePrice')\n",
        "[plt.setp(ax.get_xticklabels(), rotation=90) for ax in g.axes.flat]\n",
        "g.fig.tight_layout()\n",
        "plt.show()"
      ],
      "execution_count": null,
      "outputs": []
    },
    {
      "cell_type": "markdown",
      "metadata": {
        "id": "dJQoCcaCevOx"
      },
      "source": [
        "##<font color='green'>Feature Engineering</font>"
      ]
    },
    {
      "cell_type": "markdown",
      "metadata": {
        "id": "qd4Ku1iOe1a_"
      },
      "source": [
        "**One-hot encoding** is a common technique which will transform categorical data into numbers so the model can understand whether or not a particular observation falls into one category or another."
      ]
    },
    {
      "cell_type": "code",
      "metadata": {
        "id": "4EXNJgHTfDTS"
      },
      "source": [
        "print (train.Street.value_counts())"
      ],
      "execution_count": null,
      "outputs": []
    },
    {
      "cell_type": "markdown",
      "metadata": {
        "id": "AaxwiaViffSp"
      },
      "source": [
        "In the Street column, the unique values are Pave and Grvl, which describe the type of road access to the property. \n",
        "<br>In the training set, only 6 homes have gravel access. \n",
        "<br>Our model needs numerical data, so we will use one-hot encoding to transform the data into a Boolean column.  This encoded column needs to be added to both training set and test set."
      ]
    },
    {
      "cell_type": "code",
      "metadata": {
        "id": "THxJMjuFfswe"
      },
      "source": [
        "train['enc_street'] = pd.get_dummies(train.Street, drop_first=True)"
      ],
      "execution_count": null,
      "outputs": []
    },
    {
      "cell_type": "markdown",
      "metadata": {
        "id": "x_z-U4GHgBFD"
      },
      "source": [
        "So we engineered a new feature, 'enc_street'."
      ]
    },
    {
      "cell_type": "code",
      "metadata": {
        "id": "r9_cjVbvf7tU"
      },
      "source": [
        "print (train.enc_street.value_counts())"
      ],
      "execution_count": null,
      "outputs": []
    },
    {
      "cell_type": "markdown",
      "metadata": {
        "id": "DwB6NZ6Tbh_E"
      },
      "source": [
        "## <font color='green'>Data Preprocessing</font>"
      ]
    },
    {
      "cell_type": "markdown",
      "metadata": {
        "id": "kk25U9vrcUg3"
      },
      "source": [
        "Which columns have missing data?"
      ]
    },
    {
      "cell_type": "code",
      "metadata": {
        "id": "ulNIUfbRbwee"
      },
      "source": [
        "train.columns[train.isnull().sum() != 0].values"
      ],
      "execution_count": null,
      "outputs": []
    },
    {
      "cell_type": "markdown",
      "metadata": {
        "id": "W5xvC2MacoRh"
      },
      "source": [
        "One way to deal with missing data is interpolation, which fills the missing values with an average value."
      ]
    },
    {
      "cell_type": "code",
      "metadata": {
        "id": "XXKbrZi-bkT0"
      },
      "source": [
        "data = train.select_dtypes(include=[np.number]).interpolate()"
      ],
      "execution_count": null,
      "outputs": []
    },
    {
      "cell_type": "markdown",
      "metadata": {
        "id": "b_E3-4_xc_-b"
      },
      "source": [
        "Verify there is no more column with empty data."
      ]
    },
    {
      "cell_type": "code",
      "metadata": {
        "id": "Z19YjHg3ctXb"
      },
      "source": [
        "len(data.columns[data.isnull().sum() != 0])"
      ],
      "execution_count": null,
      "outputs": []
    },
    {
      "cell_type": "markdown",
      "metadata": {
        "id": "qHqJA9HBdxGk"
      },
      "source": [
        "##<font color='green'>Build Linear Regression Model</font>"
      ]
    },
    {
      "cell_type": "markdown",
      "metadata": {
        "id": "U3m4V7a_vw1T"
      },
      "source": [
        "Set dependent variable. "
      ]
    },
    {
      "cell_type": "code",
      "metadata": {
        "id": "QX4p6qQtdGRh"
      },
      "source": [
        "y = train.SalePrice\n",
        "X = data.drop(['SalePrice', 'Id'], axis=1)"
      ],
      "execution_count": null,
      "outputs": []
    },
    {
      "cell_type": "markdown",
      "metadata": {
        "id": "ZlbIcOFcv88d"
      },
      "source": [
        "Split data into training set and test set."
      ]
    },
    {
      "cell_type": "code",
      "metadata": {
        "id": "0M2dA0gWdtfi"
      },
      "source": [
        "from sklearn.model_selection import train_test_split\n",
        "X_train, X_test, y_train, y_test = train_test_split(\n",
        "                                    X, y, random_state=42, test_size=.33)"
      ],
      "execution_count": null,
      "outputs": []
    },
    {
      "cell_type": "markdown",
      "metadata": {
        "id": "EavGvDsEwXQ_"
      },
      "source": [
        "Build model.  Lots of model parameters this time."
      ]
    },
    {
      "cell_type": "code",
      "metadata": {
        "id": "pP_z90pul6Wt",
        "outputId": "1413f053-d93c-4499-ca14-77581eaabfb8",
        "colab": {
          "base_uri": "https://localhost:8080/",
          "height": 188
        }
      },
      "source": [
        "from sklearn import linear_model\n",
        "\n",
        "lr = linear_model.LinearRegression()\n",
        "\n",
        "model = lr.fit(X_train, y_train)\n",
        "\n",
        "print(model.coef_)"
      ],
      "execution_count": null,
      "outputs": [
        {
          "output_type": "stream",
          "text": [
            "[-2.15564458e+02 -1.52490357e+02  5.17523974e-01  1.83554517e+04\n",
            "  2.80344707e+03  2.50852836e+02  2.15588040e+02  2.62701612e+01\n",
            "  6.89818089e+00 -2.52989755e+00 -2.16121017e+00  2.20707317e+00\n",
            "  4.65199485e+00  6.48101693e-01  2.80521927e+01  3.33522892e+01\n",
            "  1.19784282e+04 -5.61747151e+02  5.17960401e+03  9.09941791e+01\n",
            " -9.40466534e+03 -9.84908509e+03  6.89446338e+03  5.21576869e+03\n",
            "  7.24033912e+01  1.26148524e+04  1.66205570e+00  2.63515502e+01\n",
            " -1.13062912e+01  1.44631601e+01  5.02479367e+01  9.11323968e+01\n",
            " -1.47082936e+02 -1.41736972e+00 -5.65014999e+01 -1.79015925e+02\n",
            "  2.18924805e+04]\n"
          ],
          "name": "stdout"
        }
      ]
    },
    {
      "cell_type": "code",
      "metadata": {
        "id": "MOwlTnFRmJ_M",
        "outputId": "816077b4-ea56-4ff1-fa78-aec0d237bdae",
        "colab": {
          "base_uri": "https://localhost:8080/",
          "height": 34
        }
      },
      "source": [
        "print(model.intercept_)"
      ],
      "execution_count": null,
      "outputs": [
        {
          "output_type": "stream",
          "text": [
            "-771601.9615223046\n"
          ],
          "name": "stdout"
        }
      ]
    },
    {
      "cell_type": "markdown",
      "metadata": {
        "id": "cnEBkw5DwvQb"
      },
      "source": [
        "### <font color='green'>Goodness of Fit</font>"
      ]
    },
    {
      "cell_type": "code",
      "metadata": {
        "id": "J-qoOG2ciQ2F",
        "outputId": "9004df1a-c032-4899-9485-10dd81d22074",
        "colab": {
          "base_uri": "https://localhost:8080/",
          "height": 51
        }
      },
      "source": [
        "print (\"R^2 is: \\n\", model.score(X_test, y_test))"
      ],
      "execution_count": null,
      "outputs": [
        {
          "output_type": "stream",
          "text": [
            "R^2 is: \n",
            " 0.7841741429178499\n"
          ],
          "name": "stdout"
        }
      ]
    },
    {
      "cell_type": "code",
      "metadata": {
        "id": "FWYRLQ0yVcSC"
      },
      "source": [
        ""
      ],
      "execution_count": null,
      "outputs": []
    },
    {
      "cell_type": "markdown",
      "metadata": {
        "id": "Mehnz1Scjyho"
      },
      "source": [
        "Another way to measure the fit is **root mean squared error (RMSE)**.\n",
        "<br>\n",
        "![alt text](https://www.includehelp.com/ml-ai/Images/rmse-1.jpg)\n"
      ]
    },
    {
      "cell_type": "code",
      "metadata": {
        "id": "3KUGPuxrkOjc",
        "outputId": "35455f44-3499-41ad-96dc-ab40b72eaaa8",
        "colab": {
          "base_uri": "https://localhost:8080/",
          "height": 51
        }
      },
      "source": [
        "predictions = model.predict(X_test)\n",
        "\n",
        "from sklearn.metrics import mean_squared_error\n",
        "print ('RMSE is: \\n', mean_squared_error(y_test, predictions))"
      ],
      "execution_count": null,
      "outputs": [
        {
          "output_type": "stream",
          "text": [
            "RMSE is: \n",
            " 1584462082.5754201\n"
          ],
          "name": "stdout"
        }
      ]
    },
    {
      "cell_type": "markdown",
      "metadata": {
        "id": "8dYyda5L4AI6"
      },
      "source": [
        "All in one cell:"
      ]
    },
    {
      "cell_type": "code",
      "metadata": {
        "id": "ULU617v_4DM4",
        "outputId": "b1228b95-ab2a-46d9-d4aa-8a910d873229",
        "colab": {
          "base_uri": "https://localhost:8080/",
          "height": 188
        }
      },
      "source": [
        "y = train.SalePrice\n",
        "\n",
        "from sklearn.model_selection import train_test_split\n",
        "X_train, X_test, y_train, y_test = train_test_split(\n",
        "                                    X, y, random_state=42, test_size=.33)\n",
        "model = lr.fit(X_train, y_train)\n",
        "print (\"R^2 is: \\n\", model.score(X_test, y_test))\n",
        "\n",
        "\n",
        "predictions = model.predict(X_test)\n",
        "print ('RMSE is: \\n', mean_squared_error(y_test, predictions))\n",
        "\n",
        "\n",
        "print (\"\\n\\nTraing-set R^2 is: \\n\", model.score(X_train, y_train))\n",
        "\n",
        "predictions = model.predict(X_train)\n",
        "print ('Traing-set RMSE is: \\n', mean_squared_error(y_train, predictions))\n",
        "\n"
      ],
      "execution_count": null,
      "outputs": [
        {
          "output_type": "stream",
          "text": [
            "R^2 is: \n",
            " 0.7841741429178499\n",
            "RMSE is: \n",
            " 1584462082.5754201\n",
            "\n",
            "\n",
            "Traing-set R^2 is: \n",
            " 0.8122130202205164\n",
            "Traing-set RMSE is: \n",
            " 1088571906.7527828\n"
          ],
          "name": "stdout"
        }
      ]
    },
    {
      "cell_type": "markdown",
      "metadata": {
        "id": "IOXlU4wsjmsz"
      },
      "source": [
        "##<font color='green'>Enhancing Model by Log-Transform</font>"
      ]
    },
    {
      "cell_type": "markdown",
      "metadata": {
        "id": "90X6Jhynk854"
      },
      "source": [
        "When performing regression, sometimes it makes sense to log-transform the target variable when it is skewed. One reason for this is to improve the linearity of the data. \n",
        "<br><br>\n",
        "Recall that the SalePrice distribution in EDA is skewed, leaning to the left."
      ]
    },
    {
      "cell_type": "code",
      "metadata": {
        "id": "ZC2w9XfdlBx6",
        "outputId": "1599cb0f-015a-4d62-a173-ca6295e24c74",
        "colab": {
          "base_uri": "https://localhost:8080/",
          "height": 439
        }
      },
      "source": [
        "plt.figure(figsize=(10,6))\n",
        "sns.distplot(train.SalePrice)\n",
        "plt.show()"
      ],
      "execution_count": null,
      "outputs": [
        {
          "output_type": "stream",
          "text": [
            "/usr/local/lib/python3.6/dist-packages/matplotlib/axes/_axes.py:6521: MatplotlibDeprecationWarning: \n",
            "The 'normed' kwarg was deprecated in Matplotlib 2.1 and will be removed in 3.1. Use 'density' instead.\n",
            "  alternative=\"'density'\", removal=\"3.1\")\n"
          ],
          "name": "stderr"
        },
        {
          "output_type": "display_data",
          "data": {
            "image/png": "[encoded data removed]",
            "text/plain": [
              "<Figure size 720x432 with 1 Axes>"
            ]
          },
          "metadata": {
            "tags": []
          }
        }
      ]
    },
    {
      "cell_type": "markdown",
      "metadata": {
        "id": "CoPb1QDElZxN"
      },
      "source": [
        "By log-transform, the distribution is more even/linear."
      ]
    },
    {
      "cell_type": "code",
      "metadata": {
        "id": "PskzBfyPliEn",
        "outputId": "dbbc68c4-0367-4178-d465-14626cdbed52",
        "colab": {
          "base_uri": "https://localhost:8080/",
          "height": 439
        }
      },
      "source": [
        "plt.figure(figsize=(10,6))\n",
        "sns.distplot(np.log(train.SalePrice))\n",
        "plt.show()"
      ],
      "execution_count": null,
      "outputs": [
        {
          "output_type": "stream",
          "text": [
            "/usr/local/lib/python3.6/dist-packages/matplotlib/axes/_axes.py:6521: MatplotlibDeprecationWarning: \n",
            "The 'normed' kwarg was deprecated in Matplotlib 2.1 and will be removed in 3.1. Use 'density' instead.\n",
            "  alternative=\"'density'\", removal=\"3.1\")\n"
          ],
          "name": "stderr"
        },
        {
          "output_type": "display_data",
          "data": {
            "image/png": "[encoded data removed]",
            "text/plain": [
              "<Figure size 720x432 with 1 Axes>"
            ]
          },
          "metadata": {
            "tags": []
          }
        }
      ]
    },
    {
      "cell_type": "markdown",
      "metadata": {
        "id": "aYOBCdO8lm5i"
      },
      "source": [
        "Now re-run the model after log-transform.  We get a **better fit.**"
      ]
    },
    {
      "cell_type": "code",
      "metadata": {
        "id": "Rn8ap-jLjwlx",
        "outputId": "1941b9ec-2aa4-46b8-cff2-0028ff4affe8",
        "colab": {
          "base_uri": "https://localhost:8080/",
          "height": 188
        }
      },
      "source": [
        "y = np.log(train.SalePrice)\n",
        "\n",
        "from sklearn.model_selection import train_test_split\n",
        "X_train, X_test, y_train, y_test = train_test_split(\n",
        "                                    X, y, random_state=42, test_size=.33)\n",
        "model = lr.fit(X_train, y_train)\n",
        "print (\"R^2 is: \\n\", model.score(X_test, y_test))\n",
        "\n",
        "\n",
        "predictions = model.predict(X_test)\n",
        "print ('RMSE is: \\n', mean_squared_error(y_test, predictions))\n",
        "\n",
        "\n",
        "\n",
        "print (\"\\n\\nTraing-set R^2 is: \\n\", model.score(X_train, y_train))\n",
        "\n",
        "predictions = model.predict(X_train)\n",
        "print ('Traing-set RMSE is: \\n', mean_squared_error(y_train, predictions))\n"
      ],
      "execution_count": null,
      "outputs": [
        {
          "output_type": "stream",
          "text": [
            "R^2 is: \n",
            " 0.8640176881832574\n",
            "RMSE is: \n",
            " 0.02317565350928139\n",
            "\n",
            "\n",
            "Traing-set R^2 is: \n",
            " 0.8638419633882806\n",
            "Traing-set RMSE is: \n",
            " 0.02096624494977611\n"
          ],
          "name": "stdout"
        }
      ]
    },
    {
      "cell_type": "markdown",
      "metadata": {
        "id": "ZJ34LK4bxAwG"
      },
      "source": [
        "##<font color='green'>Build KNN Regression Model</font>"
      ]
    },
    {
      "cell_type": "code",
      "metadata": {
        "id": "iDiqBrs9qV8G",
        "outputId": "989f09fc-8d8c-40dd-cd8a-71b1120d4a2b",
        "colab": {
          "base_uri": "https://localhost:8080/",
          "height": 188
        }
      },
      "source": [
        "y = train.SalePrice\n",
        "\n",
        "from sklearn.model_selection import train_test_split\n",
        "X_train, X_test, y_train, y_test = train_test_split(\n",
        "                                    X, y, random_state=42, test_size=.33)\n",
        "\n",
        "from sklearn.neighbors import KNeighborsRegressor\n",
        "\n",
        "knn = KNeighborsRegressor(n_neighbors=5)\n",
        "\n",
        "knnModel = knn.fit(X_train, y_train)\n",
        "print (\"R^2 is: \\n\", knnModel.score(X_test, y_test))\n",
        "knnPredictions = knnModel.predict(X_test)\n",
        "print ('RMSE is: \\n', mean_squared_error(y_test, knnPredictions))\n",
        "\n",
        "\n",
        "\n",
        "print (\"\\n\\nTraing-set R^2 is: \\n\", knnModel.score(X_train, y_train))\n",
        "\n",
        "knnPredictions = knnModel.predict(X_train)\n",
        "print ('Traing-set RMSE is: \\n', mean_squared_error(y_train, knnPredictions))\n"
      ],
      "execution_count": null,
      "outputs": [
        {
          "output_type": "stream",
          "text": [
            "R^2 is: \n",
            " 0.6619307480031758\n",
            "RMSE is: \n",
            " 2481898685.8915358\n",
            "\n",
            "\n",
            "Traing-set R^2 is: \n",
            " 0.7472412287141104\n",
            "Traing-set RMSE is: \n",
            " 1465203274.1049078\n"
          ],
          "name": "stdout"
        }
      ]
    },
    {
      "cell_type": "markdown",
      "metadata": {
        "id": "LUIyLSDwnIrH"
      },
      "source": [
        "${R}^2$ is smaller, and RMSE is bigger.  Both indicate worse performance than Linear Regression Model.\n"
      ]
    },
    {
      "cell_type": "markdown",
      "metadata": {
        "id": "qwuzcwM4yLXn"
      },
      "source": [
        "### <font color='green'>Log-transform has small improvement on KNN Regression too.</font>"
      ]
    },
    {
      "cell_type": "code",
      "metadata": {
        "id": "4_6Lv0uZmmNh",
        "outputId": "62a809df-657f-49a5-cd55-acd81af7fbc8",
        "colab": {
          "base_uri": "https://localhost:8080/",
          "height": 187
        }
      },
      "source": [
        "y = np.log(train.SalePrice)\n",
        "\n",
        "from sklearn.model_selection import train_test_split\n",
        "X_train, X_test, y_train, y_test = train_test_split(\n",
        "                                    X, y, random_state=42, test_size=.33)\n",
        "\n",
        "from sklearn.neighbors import KNeighborsRegressor\n",
        "\n",
        "knn = KNeighborsRegressor(n_neighbors=5)\n",
        "\n",
        "knnModel = knn.fit(X_train, y_train)\n",
        "print (\"R^2 is: \\n\", knnModel.score(X_test, y_test))\n",
        "knnPredictions = knnModel.predict(X_test)\n",
        "print ('RMSE is: \\n', mean_squared_error(y_test, knnPredictions))\n",
        "\n",
        "\n",
        "print (\"\\n\\nTraing-set R^2 is: \\n\", knnModel.score(X_train, y_train))\n",
        "\n",
        "knnPredictions = knnModel.predict(X_train)\n",
        "print ('Traing-set RMSE is: \\n', mean_squared_error(y_train, knnPredictions))\n"
      ],
      "execution_count": null,
      "outputs": [
        {
          "output_type": "stream",
          "text": [
            "R^2 is: \n",
            " 0.6997122824172163\n",
            "RMSE is: \n",
            " 0.05117845110009874\n",
            "\n",
            "\n",
            "Traing-set R^2 is: \n",
            " 0.7707345860044488\n",
            "Traing-set RMSE is: \n",
            " 0.03530335004793115\n"
          ],
          "name": "stdout"
        }
      ]
    },
    {
      "cell_type": "markdown",
      "metadata": {
        "id": "pTcXnGC4xgFm"
      },
      "source": [
        "Again, ${R}^2$ is smaller, and RMSE is bigger.  Both indicate worse performance than Linear Regression Model."
      ]
    },
    {
      "cell_type": "markdown",
      "metadata": {
        "id": "rh9EwK5d5IOp"
      },
      "source": [
        "### Based on ${R}^2$ difference between test set and training set, Linear Regression Model appears more fit on training set than KNN Regression Model.  Especially after log-transform."
      ]
    },
    {
      "cell_type": "code",
      "metadata": {
        "id": "XGoiaYgH5pJu"
      },
      "source": [
        ""
      ],
      "execution_count": null,
      "outputs": []
    }
  ]
}